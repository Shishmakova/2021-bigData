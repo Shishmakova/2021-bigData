{
  "nbformat": 4,
  "nbformat_minor": 0,
  "metadata": {
    "colab": {
      "name": "1prog.ipynb",
      "provenance": [],
      "collapsed_sections": [],
      "authorship_tag": "ABX9TyNvJ9lWaj7L4nxyOVbxq5U0",
      "include_colab_link": true
    },
    "kernelspec": {
      "name": "python3",
      "display_name": "Python 3"
    },
    "language_info": {
      "name": "python"
    }
  },
  "cells": [
    {
      "cell_type": "markdown",
      "metadata": {
        "id": "view-in-github",
        "colab_type": "text"
      },
      "source": [
        "<a href=\"https://colab.research.google.com/github/Shishmakova/2021-bigData/blob/main/1prog.ipynb\" target=\"_parent\"><img src=\"https://colab.research.google.com/assets/colab-badge.svg\" alt=\"Open In Colab\"/></a>"
      ]
    },
    {
      "cell_type": "code",
      "metadata": {
        "id": "9pgJ9kectRAS",
        "colab": {
          "base_uri": "https://localhost:8080/"
        },
        "outputId": "59ce6671-cb7b-475a-f995-a70a00b1982f"
      },
      "source": [
        "import numpy as np\n",
        "\n",
        "import pandas as pd\n",
        "\n",
        "rng = np.random.default_rng()\n",
        "\n",
        "df1 = pd.DataFrame(rng.integers(-1000,5000,size = (9000,4)))\n",
        "df2 = pd.DataFrame(rng.random((9000,3)))\n",
        "df = pd.concat([df1,df2],axis = 1)\n",
        "\n",
        "df.columns = [x for x in range(0,7)]\n",
        "\n",
        "df.to_csv('shishmakova_1', sep='\\t',index=False)\n",
        "\n",
        "print(df.head(10))\n",
        "\n",
        "for i in range(100):\n",
        "    df.at[np.random.randint(0,9000),0] = 0\n",
        "    df.at[np.random.randint(0,9000),3] = None\n",
        "    df.at[np.random.randint(0,9000),1] = 1\n",
        "\n",
        "df.to_csv('shishmakova_2', sep='\\t',index=False)\n",
        "print(df.head(10))\n",
        "\n"
      ],
      "execution_count": null,
      "outputs": [
        {
          "output_type": "stream",
          "name": "stdout",
          "text": [
            "      0     1     2     3         4         5         6\n",
            "0   557  2380  1621  2752  0.446435  0.771259  0.476493\n",
            "1  4464  4306  2409  4021  0.964898  0.122968  0.899403\n",
            "2  4356  2037  3327  2858  0.814779  0.465267  0.030478\n",
            "3  -954  3002  1661  2361  0.050064  0.638761  0.270426\n",
            "4  1061   235  4641  1327  0.962746  0.114423  0.465535\n",
            "5   -22  -849  -966  1925  0.571590  0.569836  0.275484\n",
            "6  4590  4558  1584   -47  0.621143  0.104256  0.459578\n",
            "7  4727  -630  3996  4074  0.976610  0.780511  0.072302\n",
            "8  1988  -518   279  4404  0.135015  0.140684  0.146051\n",
            "9  4339  2945  2913   867  0.911156  0.001310  0.463099\n",
            "      0     1     2       3         4         5         6\n",
            "0   557  2380  1621     NaN  0.446435  0.771259  0.476493\n",
            "1  4464  4306  2409  4021.0  0.964898  0.122968  0.899403\n",
            "2  4356  2037  3327  2858.0  0.814779  0.465267  0.030478\n",
            "3  -954  3002  1661  2361.0  0.050064  0.638761  0.270426\n",
            "4  1061   235  4641  1327.0  0.962746  0.114423  0.465535\n",
            "5   -22  -849  -966  1925.0  0.571590  0.569836  0.275484\n",
            "6  4590  4558  1584   -47.0  0.621143  0.104256  0.459578\n",
            "7  4727  -630  3996  4074.0  0.976610  0.780511  0.072302\n",
            "8  1988  -518   279  4404.0  0.135015  0.140684  0.146051\n",
            "9  4339  2945  2913   867.0  0.911156  0.001310  0.463099\n"
          ]
        }
      ]
    }
  ]
}